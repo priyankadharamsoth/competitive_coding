{
 "cells": [
  {
   "cell_type": "code",
   "execution_count": 17,
   "id": "e2657718",
   "metadata": {},
   "outputs": [
    {
     "name": "stdout",
     "output_type": "stream",
     "text": [
      "[3, 4, 5, 6, 7, 9]\n",
      "3\n",
      "False\n"
     ]
    }
   ],
   "source": [
    "class BinaryTree:\n",
    "    def __init__(self,data):\n",
    "        self.data = data\n",
    "        self.left = None\n",
    "        self.right = None\n",
    "    \n",
    "    #adding children\n",
    "    \n",
    "    def add_child(self,data):\n",
    "        if data == self.data:\n",
    "            return data\n",
    "        \n",
    "        if data < self.data:\n",
    "            if self.left:\n",
    "                self.left.add_child(data)\n",
    "            else:\n",
    "                self.left =  BinaryTree(data)  \n",
    "            \n",
    "        if data > self.data:\n",
    "            if self.right:\n",
    "                self.right.add_child(data)\n",
    "            else:\n",
    "                self.right = BinaryTree(data) \n",
    "                \n",
    "    def in_order_tree(self):\n",
    "        elements = []\n",
    "        \n",
    "        if self.left:\n",
    "            elements += self.left.in_order_tree()\n",
    "            \n",
    "        elements.append(self.data)\n",
    "        \n",
    "        if self.right:\n",
    "            elements += self.right.in_order_tree()\n",
    "            \n",
    "        return elements\n",
    "    \n",
    "    def find_min(self):\n",
    "        if self.left:\n",
    "            return self.left.find_min()\n",
    "        else:\n",
    "            return self.data\n",
    "        \n",
    "    def search(self, key):\n",
    "        if key == self.data:\n",
    "            return True\n",
    "        if key < self.data:\n",
    "            if self.left:\n",
    "                return self.left.search(key)\n",
    "            else:\n",
    "                return False\n",
    "                \n",
    "        if key > self.data:\n",
    "            if self.right:\n",
    "                return self.right.search(key)\n",
    "            else:\n",
    "                return False\n",
    "            \n",
    "            \n",
    "    \n",
    "def build_tree(elements):\n",
    "    root = BinaryTree(elements[0])\n",
    "    for num in range(1,len(elements)):\n",
    "        root.add_child(elements[num])\n",
    "    return root\n",
    "\n",
    "if __name__ == '__main__':\n",
    "    numbers = [5,4,7,4,3,9,6]\n",
    "    num_tree = build_tree(numbers)\n",
    "    print(num_tree.in_order_tree())\n",
    "    print(num_tree.find_min())\n",
    "    print(num_tree.search(1))"
   ]
  },
  {
   "cell_type": "code",
   "execution_count": null,
   "id": "97cee222",
   "metadata": {},
   "outputs": [],
   "source": []
  },
  {
   "cell_type": "code",
   "execution_count": null,
   "id": "a844e277",
   "metadata": {},
   "outputs": [],
   "source": []
  }
 ],
 "metadata": {
  "kernelspec": {
   "display_name": "Python 3 (ipykernel)",
   "language": "python",
   "name": "python3"
  },
  "language_info": {
   "codemirror_mode": {
    "name": "ipython",
    "version": 3
   },
   "file_extension": ".py",
   "mimetype": "text/x-python",
   "name": "python",
   "nbconvert_exporter": "python",
   "pygments_lexer": "ipython3",
   "version": "3.10.2"
  }
 },
 "nbformat": 4,
 "nbformat_minor": 5
}
