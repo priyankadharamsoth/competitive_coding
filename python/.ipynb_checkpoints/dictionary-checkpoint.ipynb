{
 "cells": [
  {
   "cell_type": "code",
   "execution_count": 17,
   "id": "598ccece",
   "metadata": {},
   "outputs": [
    {
     "name": "stdout",
     "output_type": "stream",
     "text": [
      "1 : 3\n",
      "2 : 3\n"
     ]
    }
   ],
   "source": [
    "arr = [1,2,1,2,2,1]\n",
    "count = {}\n",
    "for i in arr: \n",
    "    if i in count:\n",
    "        count[i] = count[i]+1\n",
    "    else:\n",
    "        count[i] = 1\n",
    "        \n",
    "for key, val in count.items():\n",
    "    print('%d : %d' % (key,val))\n"
   ]
  },
  {
   "cell_type": "code",
   "execution_count": null,
   "id": "af80bc24",
   "metadata": {},
   "outputs": [],
   "source": []
  },
  {
   "cell_type": "code",
   "execution_count": null,
   "id": "460e0ad8",
   "metadata": {},
   "outputs": [],
   "source": []
  }
 ],
 "metadata": {
  "kernelspec": {
   "display_name": "Python 3 (ipykernel)",
   "language": "python",
   "name": "python3"
  },
  "language_info": {
   "codemirror_mode": {
    "name": "ipython",
    "version": 3
   },
   "file_extension": ".py",
   "mimetype": "text/x-python",
   "name": "python",
   "nbconvert_exporter": "python",
   "pygments_lexer": "ipython3",
   "version": "3.10.2"
  }
 },
 "nbformat": 4,
 "nbformat_minor": 5
}
