{
 "cells": [
  {
   "cell_type": "code",
   "execution_count": 28,
   "id": "af39ee92",
   "metadata": {},
   "outputs": [],
   "source": [
    "from collections import deque\n",
    "stack = deque()\n",
    "\n",
    "s = 'i am priyanka'\n",
    "for ch in s:\n",
    "    stack.append(ch)"
   ]
  },
  {
   "cell_type": "code",
   "execution_count": 29,
   "id": "8769e18d",
   "metadata": {},
   "outputs": [
    {
     "data": {
      "text/plain": [
       "'i am priyanka'"
      ]
     },
     "execution_count": 29,
     "metadata": {},
     "output_type": "execute_result"
    }
   ],
   "source": [
    "s"
   ]
  },
  {
   "cell_type": "code",
   "execution_count": 30,
   "id": "5dc8b275",
   "metadata": {},
   "outputs": [
    {
     "name": "stdout",
     "output_type": "stream",
     "text": [
      "aknayirp ma i\n"
     ]
    }
   ],
   "source": [
    "rstr = ''\n",
    "while len(stack) != 0:\n",
    "    rstr += stack.pop()\n",
    "print(rstr)"
   ]
  },
  {
   "cell_type": "code",
   "execution_count": 31,
   "id": "cd2f39b9",
   "metadata": {},
   "outputs": [
    {
     "name": "stdout",
     "output_type": "stream",
     "text": [
      "{')': '(', '}': '{', ']': '['}\n"
     ]
    }
   ],
   "source": [
    "\n",
    "arr = '()[]{}'\n",
    "d = {\n",
    "    ')' :'(',\n",
    "    '}' : '{',\n",
    "    ']': '['\n",
    "}\n",
    "\n",
    "print(d)"
   ]
  },
  {
   "cell_type": "code",
   "execution_count": 33,
   "id": "1d56a856",
   "metadata": {},
   "outputs": [
    {
     "ename": "SyntaxError",
     "evalue": "invalid syntax (2790929971.py, line 10)",
     "output_type": "error",
     "traceback": [
      "\u001b[1;36m  Input \u001b[1;32mIn [33]\u001b[1;36m\u001b[0m\n\u001b[1;33m    stack:print(True)?print(False)\u001b[0m\n\u001b[1;37m                     ^\u001b[0m\n\u001b[1;31mSyntaxError\u001b[0m\u001b[1;31m:\u001b[0m invalid syntax\n"
     ]
    }
   ],
   "source": [
    "closed_par = ['}',')',']']\n",
    "\n",
    "for i in arr:\n",
    "    if i not in d:\n",
    "        stack.append(i)\n",
    "    if i in d:\n",
    "        if stack and stack[-1] == d[i]:\n",
    "            stack.pop()\n",
    "    return False\n",
    "stack:print(True)?print(False)\n",
    "\n",
    "        \n",
    "    \n",
    "    "
   ]
  },
  {
   "cell_type": "code",
   "execution_count": null,
   "id": "e6453b56",
   "metadata": {},
   "outputs": [],
   "source": []
  }
 ],
 "metadata": {
  "kernelspec": {
   "display_name": "Python 3 (ipykernel)",
   "language": "python",
   "name": "python3"
  },
  "language_info": {
   "codemirror_mode": {
    "name": "ipython",
    "version": 3
   },
   "file_extension": ".py",
   "mimetype": "text/x-python",
   "name": "python",
   "nbconvert_exporter": "python",
   "pygments_lexer": "ipython3",
   "version": "3.10.2"
  }
 },
 "nbformat": 4,
 "nbformat_minor": 5
}
