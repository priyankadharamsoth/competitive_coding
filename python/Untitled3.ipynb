{
 "cells": [
  {
   "cell_type": "code",
   "execution_count": 8,
   "id": "cbf0939a",
   "metadata": {},
   "outputs": [
    {
     "name": "stdout",
     "output_type": "stream",
     "text": [
      "p\n"
     ]
    }
   ],
   "source": [
    "str = 'priyanka'\n",
    "stack = []\n",
    "for ch in str:\n",
    "    \n",
    "\n",
    "rstr = ''\n",
    "while len(stack) != 0:\n",
    "    rstr += stack.pop()\n",
    "print(rstr)"
   ]
  },
  {
   "cell_type": "code",
   "execution_count": null,
   "id": "22e1cb7b",
   "metadata": {},
   "outputs": [],
   "source": []
  }
 ],
 "metadata": {
  "kernelspec": {
   "display_name": "Python 3 (ipykernel)",
   "language": "python",
   "name": "python3"
  },
  "language_info": {
   "codemirror_mode": {
    "name": "ipython",
    "version": 3
   },
   "file_extension": ".py",
   "mimetype": "text/x-python",
   "name": "python",
   "nbconvert_exporter": "python",
   "pygments_lexer": "ipython3",
   "version": "3.10.2"
  }
 },
 "nbformat": 4,
 "nbformat_minor": 5
}
