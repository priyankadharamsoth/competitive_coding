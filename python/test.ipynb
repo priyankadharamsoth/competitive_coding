{
 "cells": [
  {
   "cell_type": "code",
   "execution_count": 1,
   "id": "de17e4aa",
   "metadata": {},
   "outputs": [
    {
     "name": "stdout",
     "output_type": "stream",
     "text": [
      "priya\n"
     ]
    }
   ],
   "source": [
    "arr = [2,11,15,303]\n",
    "sum = 0\n",
    "product = 1\n",
    "temp = 0\n",
    "count = 0\n",
    "for i in range (0, len(arr)):\n",
    "    temp = arr[i]%10\n",
    "    arr[i] = arr[i]//10\n",
    "    sum = sum+ temp\n",
    "    product = product * temp\n",
    "    if (i % sum)== 0 or (i% product) and product !=0:\n",
    "        count = count+1\n",
    "print(cou)\n",
    "        \n",
    "        \n",
    "    \n",
    "    "
   ]
  },
  {
   "cell_type": "code",
   "execution_count": null,
   "id": "ad6a5d53",
   "metadata": {},
   "outputs": [],
   "source": []
  }
 ],
 "metadata": {
  "kernelspec": {
   "display_name": "Python 3 (ipykernel)",
   "language": "python",
   "name": "python3"
  },
  "language_info": {
   "codemirror_mode": {
    "name": "ipython",
    "version": 3
   },
   "file_extension": ".py",
   "mimetype": "text/x-python",
   "name": "python",
   "nbconvert_exporter": "python",
   "pygments_lexer": "ipython3",
   "version": "3.10.2"
  }
 },
 "nbformat": 4,
 "nbformat_minor": 5
}
