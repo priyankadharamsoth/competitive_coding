{
 "cells": [
  {
   "cell_type": "code",
   "execution_count": 15,
   "id": "16c5a581",
   "metadata": {},
   "outputs": [
    {
     "name": "stdout",
     "output_type": "stream",
     "text": [
      "{3, 4}\n"
     ]
    }
   ],
   "source": [
    "arr = [2,3,3,3,4,4]\n",
    "val = 3\n",
    "count = 0\n",
    "set1 = set()\n",
    "list1 = set()\n",
    "for i in arr:\n",
    "    if i not in set1:\n",
    "        set1.add(i)\n",
    "    else:\n",
    "        list1.add(i)\n",
    "print(list1)\n",
    "# count = 0\n",
    "# if val in arr:\n",
    "#     count = arr.count(val)\n",
    "#     print(count)\n",
    "    \n",
    "        \n",
    "        "
   ]
  },
  {
   "cell_type": "code",
   "execution_count": null,
   "id": "9be0f744",
   "metadata": {},
   "outputs": [],
   "source": []
  },
  {
   "cell_type": "code",
   "execution_count": null,
   "id": "8b44ab9c",
   "metadata": {},
   "outputs": [],
   "source": []
  }
 ],
 "metadata": {
  "kernelspec": {
   "display_name": "Python 3 (ipykernel)",
   "language": "python",
   "name": "python3"
  },
  "language_info": {
   "codemirror_mode": {
    "name": "ipython",
    "version": 3
   },
   "file_extension": ".py",
   "mimetype": "text/x-python",
   "name": "python",
   "nbconvert_exporter": "python",
   "pygments_lexer": "ipython3",
   "version": "3.10.2"
  }
 },
 "nbformat": 4,
 "nbformat_minor": 5
}
