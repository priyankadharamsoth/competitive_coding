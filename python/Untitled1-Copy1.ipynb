{
 "cells": [
  {
   "cell_type": "code",
   "execution_count": 8,
   "id": "f540b70e",
   "metadata": {},
   "outputs": [],
   "source": [
    "weather = {}\n",
    "with open ('nyc_weather.csv','r') as f:\n",
    "    for line in f:\n",
    "        column = line.split(',')\n",
    "        day = column[0]\n",
    "        temp = (column[1])\n",
    "        weather[day] = temp\n"
   ]
  },
  {
   "cell_type": "code",
   "execution_count": 4,
   "id": "628c24cf",
   "metadata": {},
   "outputs": [
    {
     "data": {
      "text/plain": [
       "{'date': 'temperature(F)\\n',\n",
       " 'Jan 1': '27\\n',\n",
       " 'Jan 2': '31\\n',\n",
       " 'Jan 3': '23\\n',\n",
       " 'Jan 4': '34\\n',\n",
       " 'Jan 5': '37\\n',\n",
       " 'Jan 6': '38\\n',\n",
       " 'Jan 7': '29\\n',\n",
       " 'Jan 8': '30\\n',\n",
       " 'Jan 9': '35\\n',\n",
       " 'Jan 10': '30'}"
      ]
     },
     "execution_count": 4,
     "metadata": {},
     "output_type": "execute_result"
    }
   ],
   "source": [
    "weather"
   ]
  },
  {
   "cell_type": "code",
   "execution_count": 9,
   "id": "8a3d3820",
   "metadata": {},
   "outputs": [
    {
     "data": {
      "text/plain": [
       "'27\\n'"
      ]
     },
     "execution_count": 9,
     "metadata": {},
     "output_type": "execute_result"
    }
   ],
   "source": [
    "weather ['Jan 1']\n",
    "        "
   ]
  },
  {
   "cell_type": "code",
   "execution_count": 10,
   "id": "cbaa06c1",
   "metadata": {},
   "outputs": [
    {
     "data": {
      "text/plain": [
       "'34\\n'"
      ]
     },
     "execution_count": 10,
     "metadata": {},
     "output_type": "execute_result"
    }
   ],
   "source": [
    "weather ['Jan 4']"
   ]
  },
  {
   "cell_type": "code",
   "execution_count": null,
   "id": "ec7b10c2",
   "metadata": {},
   "outputs": [],
   "source": []
  }
 ],
 "metadata": {
  "kernelspec": {
   "display_name": "Python 3 (ipykernel)",
   "language": "python",
   "name": "python3"
  },
  "language_info": {
   "codemirror_mode": {
    "name": "ipython",
    "version": 3
   },
   "file_extension": ".py",
   "mimetype": "text/x-python",
   "name": "python",
   "nbconvert_exporter": "python",
   "pygments_lexer": "ipython3",
   "version": "3.10.2"
  }
 },
 "nbformat": 4,
 "nbformat_minor": 5
}
