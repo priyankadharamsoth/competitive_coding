{
 "cells": [
  {
   "cell_type": "code",
   "execution_count": 1,
   "id": "4194d63b",
   "metadata": {},
   "outputs": [
    {
     "name": "stdout",
     "output_type": "stream",
     "text": [
      "[4, 3, 2, 1]\n"
     ]
    }
   ],
   "source": [
    "def bubbleSort(arr):\n",
    "    #iterate through each and every element\n",
    "    for i in range(len(arr)-1,0,-1):\n",
    "        for j in range(0,i):\n",
    "            #compare them\n",
    "            if arr[j] < arr[j+1]:\n",
    "                #swap them\n",
    "                arr[j], arr[j+1] = arr[j+1], arr[j]\n",
    "                \n",
    "\n",
    "arr = [1,2,3,4]\n",
    "bubbleSort(arr)\n",
    "\n",
    "print(arr)\n",
    "            "
   ]
  },
  {
   "cell_type": "code",
   "execution_count": 2,
   "id": "e15e0c2a",
   "metadata": {},
   "outputs": [
    {
     "name": "stdout",
     "output_type": "stream",
     "text": [
      "[1, 2, 3, 4]\n",
      "[1, 2, 3, 5, 6, 7, 8]\n",
      "[]\n",
      "[5]\n"
     ]
    }
   ],
   "source": [
    "def Selection_sort(arr):\n",
    "    #iterate through every element\n",
    "    for i in range(len(arr)-1):\n",
    "        minpos = i\n",
    "        for j in range(i+1,len(arr)):\n",
    "            if arr[minpos]> arr[j]:\n",
    "                minpos = j\n",
    "        arr[i],arr[minpos] = arr[minpos], arr[i]\n",
    "        \n",
    "arr = [[4,3,2,1],[2,3,1,5,6,7,8],[],[5]]\n",
    "for element in arr:\n",
    "    Selection_sort(element)\n",
    "    print(element)"
   ]
  },
  {
   "cell_type": "code",
   "execution_count": 3,
   "id": "51c3eabe",
   "metadata": {},
   "outputs": [
    {
     "name": "stdout",
     "output_type": "stream",
     "text": [
      "[1, 2, 3, 4, 5]\n"
     ]
    }
   ],
   "source": [
    "def insertion_sort(arr):\n",
    "    for i in range(1,len(arr)):\n",
    "        current = arr[i]\n",
    "        j = i-1 \n",
    "        while (j >= 0 and current < arr[j] ):\n",
    "            arr[j+1] = arr[j]\n",
    "            j = j-1\n",
    "        arr[j+1] = current\n",
    "       \n",
    "arr = [4,5,2,3,1]\n",
    "insertion_sort(arr)\n",
    "print(arr)"
   ]
  },
  {
   "cell_type": "code",
   "execution_count": 1,
   "id": "bbd9d205",
   "metadata": {},
   "outputs": [
    {
     "name": "stdout",
     "output_type": "stream",
     "text": [
      "[1, 1, 1, 1, 1, 1]\n"
     ]
    }
   ],
   "source": [
    "def Merge_sort(arr):\n",
    "    if len(arr)>1:\n",
    "        u = len(arr)\n",
    "        mid = (u)//2\n",
    "        left_arr = arr[:mid]\n",
    "        right_arr = arr[mid:]\n",
    "        Merge_sort(left_arr)\n",
    "        Merge_sort(right_arr)\n",
    "    \n",
    "        i = 0\n",
    "        j = 0\n",
    "        k = 0\n",
    "        while(i < len(left_arr) and j < len(right_arr)):\n",
    "            if left_arr[i] < right_arr[j]:\n",
    "                arr[k] = left_arr[i]\n",
    "                i += 1\n",
    "                k += 1\n",
    "            else:\n",
    "                arr[k] = right_arr[j]\n",
    "                j += 1\n",
    "                k += 1\n",
    "        while i < len(left_arr):\n",
    "            arr[k] = arr[i]\n",
    "            i += 1\n",
    "            k += 1\n",
    "        \n",
    "        while j < len(right_arr):\n",
    "            arr[k] = arr[j]\n",
    "            j += 1\n",
    "            k += 1\n",
    "        \n",
    "arr = [4,5,2,1,6,7]\n",
    "Merge_sort(arr)\n",
    "print(arr)"
   ]
  },
  {
   "cell_type": "code",
   "execution_count": null,
   "id": "f7aacd20",
   "metadata": {},
   "outputs": [],
   "source": []
  },
  {
   "cell_type": "code",
   "execution_count": null,
   "id": "88b64f46",
   "metadata": {},
   "outputs": [],
   "source": []
  },
  {
   "cell_type": "code",
   "execution_count": null,
   "id": "bf0e8255",
   "metadata": {},
   "outputs": [],
   "source": []
  }
 ],
 "metadata": {
  "kernelspec": {
   "display_name": "Python 3 (ipykernel)",
   "language": "python",
   "name": "python3"
  },
  "language_info": {
   "codemirror_mode": {
    "name": "ipython",
    "version": 3
   },
   "file_extension": ".py",
   "mimetype": "text/x-python",
   "name": "python",
   "nbconvert_exporter": "python",
   "pygments_lexer": "ipython3",
   "version": "3.10.2"
  }
 },
 "nbformat": 4,
 "nbformat_minor": 5
}
